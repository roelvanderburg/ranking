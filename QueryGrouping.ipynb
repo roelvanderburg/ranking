{
 "cells": [
  {
   "cell_type": "code",
   "execution_count": 1,
   "metadata": {},
   "outputs": [
    {
     "data": {
      "application/vnd.jupyter.widget-view+json": {
       "model_id": "9bfc6c601d234d8da3e4008d6e77c14f",
       "version_major": 2,
       "version_minor": 0
      },
      "text/html": [
       "<p>Failed to display Jupyter Widget of type <code>HBox</code>.</p>\n",
       "<p>\n",
       "  If you're reading this message in the Jupyter Notebook or JupyterLab Notebook, it may mean\n",
       "  that the widgets JavaScript is still loading. If this message persists, it\n",
       "  likely means that the widgets JavaScript library is either not installed or\n",
       "  not enabled. See the <a href=\"https://ipywidgets.readthedocs.io/en/stable/user_install.html\">Jupyter\n",
       "  Widgets Documentation</a> for setup instructions.\n",
       "</p>\n",
       "<p>\n",
       "  If you're reading this message in another frontend (for example, a static\n",
       "  rendering on GitHub or <a href=\"https://nbviewer.jupyter.org/\">NBViewer</a>),\n",
       "  it may mean that your frontend doesn't currently support widgets.\n",
       "</p>\n"
      ],
      "text/plain": [
       "HBox(children=(IntProgress(value=1, bar_style='info', max=1), HTML(value='')))"
      ]
     },
     "metadata": {},
     "output_type": "display_data"
    },
    {
     "name": "stdout",
     "output_type": "stream",
     "text": [
      "\n"
     ]
    },
    {
     "data": {
      "text/html": [
       "<style>.container { width:90% !important; } </style>"
      ],
      "text/plain": [
       "<IPython.core.display.HTML object>"
      ]
     },
     "metadata": {},
     "output_type": "display_data"
    }
   ],
   "source": [
    "import numpy as np\n",
    "from sklearn.metrics import f1_score, average_precision_score\n",
    "import math\n",
    "import requests\n",
    "import os\n",
    "\n",
    "import datetime\n",
    "from datetimerange import DateTimeRange\n",
    "from datetime import timedelta  \n",
    "from dateutil import parser\n",
    "from urllib import *\n",
    "import json\n",
    "\n",
    "from pathlib import Path\n",
    "import pandas as pd\n",
    "\n",
    "import matplotlib.pyplot as plt\n",
    "import seaborn as sns\n",
    "sns.set_style('darkgrid')\n",
    "\n",
    "\n",
    "from collections import Counter\n",
    "from tqdm import tqdm_notebook \n",
    "tqdm_notebook().pandas()\n",
    "from tqdm import tqdm_notebook as tqdm\n",
    "\n",
    "import requests\n",
    "import urllib\n",
    "\n",
    "import re\n",
    "import glob\n",
    "import time \n",
    "\n",
    "import itertools\n",
    "import pathlib\n",
    "\n",
    "# Greedy IDE completion \n",
    "%config IPCompleter.greedy=True\n",
    "\n",
    "from IPython.core.display import display, HTML\n",
    "display(HTML(\"<style>.container { width:90% !important; } </style>\"))\n",
    "pd.set_option('display.max_columns', 100)\n",
    "pd.set_option('display.max_rows', 8)\n",
    "\n",
    "from IPython.core.interactiveshell import InteractiveShell\n",
    "InteractiveShell.ast_node_interactivity = \"all\"\n"
   ]
  },
  {
   "cell_type": "code",
   "execution_count": 2,
   "metadata": {},
   "outputs": [],
   "source": [
    "def request_into_dataframe(rows= 100, query= '*:*', sort='',start=0) -> pd.DataFrame :\n",
    "    \"\"\"\n",
    "    :param rows: amount of rows to request\n",
    "    :param query: string to query\n",
    "    :param sort: string to sort the request eg. sort='ShortTimeStamp desc'\n",
    "    \"\"\"\n",
    "\n",
    "    url = 'http://ec2-18-184-94-154.eu-central-1.compute.amazonaws.com:8080/solr' \\\n",
    "    '/ACC_Logging_Slave/select?indent=on&q={q}&rows={r}&sort={s}&start={st}&wt=json'.format(q=query,r=rows,s=sort,st=start)\n",
    "\n",
    "    response = requests.get(url)\n",
    "    \n",
    "    # Transform the request into a json\n",
    "    try:\n",
    "        response = response.json()\n",
    "        response = response['response']['docs'][:]\n",
    "    except:\n",
    "        display(response)\n",
    "        \n",
    "    df =  pd.DataFrame(response)\n",
    "    \n",
    "    return df\n",
    "    \n",
    "    "
   ]
  },
  {
   "cell_type": "code",
   "execution_count": null,
   "metadata": {},
   "outputs": [],
   "source": []
  }
 ],
 "metadata": {
  "kernelspec": {
   "display_name": "Python 3",
   "language": "python",
   "name": "python3"
  },
  "language_info": {
   "codemirror_mode": {
    "name": "ipython",
    "version": 3
   },
   "file_extension": ".py",
   "mimetype": "text/x-python",
   "name": "python",
   "nbconvert_exporter": "python",
   "pygments_lexer": "ipython3",
   "version": "3.6.8"
  }
 },
 "nbformat": 4,
 "nbformat_minor": 2
}
