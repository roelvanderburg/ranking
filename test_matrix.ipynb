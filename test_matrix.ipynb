{
 "cells": [
  {
   "cell_type": "markdown",
   "metadata": {},
   "source": [
    "### Test Dataframe"
   ]
  },
  {
   "cell_type": "code",
   "execution_count": 5,
   "metadata": {},
   "outputs": [],
   "source": [
    "import pandas as pd\n",
    "import numpy as np\n",
    "\n",
    "\n",
    "from IPython.core.interactiveshell import InteractiveShell\n",
    "InteractiveShell.ast_node_interactivity = \"all\""
   ]
  },
  {
   "cell_type": "code",
   "execution_count": 6,
   "metadata": {},
   "outputs": [
    {
     "data": {
      "text/html": [
       "<div>\n",
       "<style scoped>\n",
       "    .dataframe tbody tr th:only-of-type {\n",
       "        vertical-align: middle;\n",
       "    }\n",
       "\n",
       "    .dataframe tbody tr th {\n",
       "        vertical-align: top;\n",
       "    }\n",
       "\n",
       "    .dataframe thead th {\n",
       "        text-align: right;\n",
       "    }\n",
       "</style>\n",
       "<table border=\"1\" class=\"dataframe\">\n",
       "  <thead>\n",
       "    <tr style=\"text-align: right;\">\n",
       "      <th></th>\n",
       "      <th>DocumentID</th>\n",
       "      <th>DocumentPosition</th>\n",
       "      <th>ShortTimeStamp</th>\n",
       "      <th>SearchText</th>\n",
       "    </tr>\n",
       "  </thead>\n",
       "  <tbody>\n",
       "    <tr>\n",
       "      <th>0</th>\n",
       "      <td>419</td>\n",
       "      <td>2</td>\n",
       "      <td>20190214</td>\n",
       "      <td>How</td>\n",
       "    </tr>\n",
       "    <tr>\n",
       "      <th>1</th>\n",
       "      <td>384</td>\n",
       "      <td>2</td>\n",
       "      <td>20190214</td>\n",
       "      <td>Why</td>\n",
       "    </tr>\n",
       "    <tr>\n",
       "      <th>2</th>\n",
       "      <td>452</td>\n",
       "      <td>5</td>\n",
       "      <td>20190214</td>\n",
       "      <td>How</td>\n",
       "    </tr>\n",
       "    <tr>\n",
       "      <th>3</th>\n",
       "      <td>938</td>\n",
       "      <td>8</td>\n",
       "      <td>20190214</td>\n",
       "      <td>Test Query</td>\n",
       "    </tr>\n",
       "  </tbody>\n",
       "</table>\n",
       "</div>"
      ],
      "text/plain": [
       "   DocumentID  DocumentPosition  ShortTimeStamp  SearchText\n",
       "0         419                 2        20190214         How\n",
       "1         384                 2        20190214         Why\n",
       "2         452                 5        20190214         How\n",
       "3         938                 8        20190214  Test Query"
      ]
     },
     "execution_count": 6,
     "metadata": {},
     "output_type": "execute_result"
    },
    {
     "data": {
      "text/plain": [
       "{'How': [2, 5]}"
      ]
     },
     "execution_count": 6,
     "metadata": {},
     "output_type": "execute_result"
    }
   ],
   "source": [
    "dates = pd.date_range('20190101',periods=6)\n",
    "\n",
    "\n",
    "df = pd.DataFrame({\"DocumentID\"      : [419,384,452,938],\n",
    "                  \"DocumentPosition\" : [2,2,5,8],\n",
    "                  \"ShortTimeStamp\"   : [20190214,20190214,20190214,20190214],\n",
    "                  \"SearchText\"       : ['How', \"Why\",\"How\",\"Test Query\"]})\n",
    "\n",
    "df\n",
    "\n",
    "duplicates = df[df['SearchText'].duplicated(keep=False)].index.tolist()\n",
    "\n",
    "dicto = {}\n",
    "for idx, row in enumerate(df.values):\n",
    "    if idx in duplicates:\n",
    "        if df['SearchText'][idx] in dicto.keys():\n",
    "            dicto[df['SearchText'][idx]].append(df['DocumentPosition'][idx])\n",
    "        else:\n",
    "            dicto.update({df['SearchText'][idx] : [df['DocumentPosition'][idx]]})\n",
    "        \n",
    "        \n",
    "dicto"
   ]
  },
  {
   "cell_type": "code",
   "execution_count": null,
   "metadata": {},
   "outputs": [],
   "source": []
  }
 ],
 "metadata": {
  "kernelspec": {
   "display_name": "Python 3",
   "language": "python",
   "name": "python3"
  },
  "language_info": {
   "codemirror_mode": {
    "name": "ipython",
    "version": 3
   },
   "file_extension": ".py",
   "mimetype": "text/x-python",
   "name": "python",
   "nbconvert_exporter": "python",
   "pygments_lexer": "ipython3",
   "version": "3.6.7"
  }
 },
 "nbformat": 4,
 "nbformat_minor": 2
}
