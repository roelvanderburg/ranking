{
 "cells": [
  {
   "cell_type": "code",
   "execution_count": 1,
   "metadata": {},
   "outputs": [
    {
     "data": {
      "text/html": [
       "<style>.container { width:95% !important; } </style>"
      ],
      "text/plain": [
       "<IPython.core.display.HTML object>"
      ]
     },
     "metadata": {},
     "output_type": "display_data"
    }
   ],
   "source": [
    "from IPython.core.interactiveshell import InteractiveShell\n",
    "InteractiveShell.ast_node_interactivity = \"all\"\n",
    "\n",
    "from IPython.core.display import display, HTML\n",
    "display(HTML(\"<style>.container { width:95% !important; } </style>\"))\n",
    "\n",
    "import seaborn as sns\n",
    "sns.set_style('darkgrid')\n",
    "\n",
    "import numpy as np"
   ]
  },
  {
   "cell_type": "code",
   "execution_count": 2,
   "metadata": {},
   "outputs": [
    {
     "name": "stdout",
     "output_type": "stream",
     "text": [
      "emotions:train - exists, not redownloading\n",
      "emotions:test - exists, not redownloading\n",
      "  (0, 0)\t0.036299\n",
      "  (0, 1)\t0.064986\n",
      "  (0, 2)\t0.082104\n",
      "  (0, 3)\t-72.710462\n",
      "  (0, 4)\t7.92022\n",
      "  (0, 5)\t0.134279\n",
      "  (0, 6)\t2.546373\n",
      "  (0, 7)\t0.671063\n",
      "  (0, 8)\t1.589821\n",
      "  (0, 9)\t0.576485\n",
      "  (0, 10)\t0.089158\n",
      "  (0, 11)\t0.261224\n",
      "  (0, 12)\t0.167199\n",
      "  (0, 13)\t0.661612\n",
      "  (0, 14)\t0.13944\n",
      "  (0, 15)\t0.45341\n",
      "  (0, 16)\t0.018544\n",
      "  (0, 17)\t0.050505\n",
      "  (0, 18)\t0.037714\n",
      "  (0, 19)\t5.242584\n",
      "  (0, 20)\t1.617565\n",
      "  (0, 21)\t0.907755\n",
      "  (0, 22)\t0.790619\n",
      "  (0, 23)\t0.686233\n",
      "  (0, 24)\t0.454869\n",
      "  (0, 25)\t0.473198\n",
      "  (0, 26)\t0.428844\n",
      "  (0, 27)\t0.406465\n",
      "  (0, 28)\t0.477573\n",
      "  (0, 29)\t0.474959\n",
      "  (0, 30)\t0.448606\n",
      "  (0, 31)\t0.410911\n",
      "  (0, 32)\t0.017394\n",
      "  (0, 33)\t0.040446\n",
      "  (0, 34)\t0.009026\n",
      "  (0, 35)\t4.572766\n",
      "  (0, 36)\t1.308411\n",
      "  (0, 37)\t0.357039\n",
      "  (0, 38)\t0.695072\n",
      "  (0, 39)\t0.580675\n",
      "  (0, 40)\t0.262438\n",
      "  (0, 41)\t0.245005\n",
      "  (0, 42)\t0.212725\n",
      "  (0, 43)\t0.233836\n",
      "  (0, 44)\t0.319727\n",
      "  (0, 45)\t0.34079\n",
      "  (0, 46)\t0.247875\n",
      "  (0, 47)\t0.259447\n",
      "  (0, 48)\t0.028091\n",
      "  (0, 49)\t0.061028\n",
      "  (0, 50)\t0.029293\n",
      "  (0, 51)\t4.040646\n",
      "  (0, 52)\t0.502121\n",
      "  (0, 53)\t0.317307\n",
      "  (0, 54)\t0.314394\n",
      "  (0, 55)\t0.271801\n",
      "  (0, 56)\t0.117959\n",
      "  (0, 57)\t0.114325\n",
      "  (0, 58)\t0.089701\n",
      "  (0, 59)\t0.080495\n",
      "  (0, 60)\t0.117147\n",
      "  (0, 61)\t0.139134\n",
      "  (0, 62)\t0.120582\n",
      "  (0, 63)\t0.093825\n",
      "  (0, 64)\t0.159283\n",
      "  (0, 65)\t98.0\n",
      "  (0, 67)\t196.0\n",
      "  (0, 68)\t2.0\n",
      "  (0, 69)\t0.095982\n",
      "  (0, 70)\t0.520006\n",
      "  (0, 71)\t0.677943\n",
      "  (1, 0)\t0.161218\n",
      "  (1, 1)\t0.46782\n",
      "  (1, 2)\t0.096983\n",
      "  (1, 3)\t-71.298043\n",
      "  (1, 4)\t1.176349\n",
      "  (1, 5)\t1.871744\n",
      "  (1, 6)\t1.097346\n",
      "  (1, 7)\t0.641059\n",
      "  (1, 8)\t0.372797\n",
      "  (1, 9)\t0.99105\n",
      "  (1, 10)\t0.398497\n",
      "  (1, 11)\t0.620176\n",
      "  (1, 12)\t0.640384\n",
      "  (1, 13)\t0.371496\n",
      "  (1, 14)\t0.77162\n",
      "  (1, 15)\t0.377546\n",
      "  (1, 16)\t0.119855\n",
      "  (1, 17)\t0.267804\n",
      "  (1, 18)\t0.04078\n",
      "  (1, 19)\t7.356566\n",
      "  (1, 20)\t1.631008\n",
      "  (1, 21)\t1.380196\n",
      "  (1, 22)\t1.165626\n",
      "  (1, 23)\t0.978787\n",
      "  (1, 24)\t0.930145\n",
      "  (1, 25)\t0.784487\n",
      "  (1, 26)\t0.774253\n",
      "  (1, 27)\t0.633667\n",
      "  (1, 28)\t0.631864\n",
      "  (1, 29)\t0.557194\n",
      "  (1, 30)\t0.554867\n",
      "  (1, 31)\t0.52775\n",
      "  (1, 32)\t0.053851\n",
      "  (1, 33)\t0.078614\n",
      "  (1, 34)\t0.007275\n",
      "  (1, 35)\t3.694672\n",
      "  (1, 36)\t0.786162\n",
      "  (1, 37)\t0.676327\n",
      "  (1, 38)\t0.530881\n",
      "  (1, 39)\t0.417822\n",
      "  (1, 40)\t0.393668\n",
      "  (1, 41)\t0.320128\n",
      "  (1, 42)\t0.176676\n",
      "  (1, 43)\t0.233029\n",
      "  (1, 44)\t0.233907\n",
      "  (1, 45)\t0.14694\n",
      "  (1, 46)\t0.164319\n",
      "  (1, 47)\t0.176207\n",
      "  (1, 48)\t0.036098\n",
      "  (1, 49)\t0.049404\n",
      "  (1, 50)\t0.029032\n",
      "  (1, 51)\t3.629354\n",
      "  (1, 52)\t0.491076\n",
      "  (1, 53)\t0.303654\n",
      "  (1, 54)\t0.239815\n",
      "  (1, 55)\t0.251637\n",
      "  (1, 56)\t0.17229\n",
      "  (1, 57)\t0.146805\n",
      "  (1, 58)\t0.160397\n",
      "  (1, 59)\t0.115809\n",
      "  (1, 60)\t0.113976\n",
      "  (1, 61)\t0.10368\n",
      "  (1, 62)\t0.080572\n",
      "  (1, 63)\t0.080849\n",
      "  (1, 64)\t0.466766\n",
      "  (1, 65)\t66.0\n",
      "  (1, 66)\t0.256515\n",
      "  (1, 67)\t132.0\n",
      "  (1, 68)\t2.0\n",
      "  (1, 69)\t0.75221\n",
      "  (1, 70)\t0.576382\n",
      "  (1, 71)\t1.477141\n"
     ]
    }
   ],
   "source": [
    "from skmultilearn.cluster import LabelCooccurrenceGraphBuilder\n",
    "from skmultilearn.dataset import load_dataset\n",
    "\n",
    "\n",
    "X_train, y_train, feature_names, label_names = load_dataset('emotions', 'train')\n",
    "X_test, y_test, _, _ = load_dataset('emotions', 'test')\n",
    "\n",
    "print(X_test[:2])"
   ]
  },
  {
   "cell_type": "code",
   "execution_count": 3,
   "metadata": {},
   "outputs": [],
   "source": [
    "graph_builder = LabelCooccurrenceGraphBuilder(weighted=True, include_self_edges=False)\n"
   ]
  },
  {
   "cell_type": "code",
   "execution_count": 4,
   "metadata": {},
   "outputs": [
    {
     "name": "stdout",
     "output_type": "stream",
     "text": [
      "6 labels, 14 edges\n",
      "{(1, 2): 58.0, (0, 5): 61.0, (1, 5): 6.0, (0, 1): 33.0, (2, 3): 66.0, (2, 4): 60.0, (3, 4): 56.0, (4, 5): 9.0, (2, 5): 5.0, (0, 4): 4.0, (1, 4): 1.0, (0, 2): 9.0, (1, 3): 6.0, (3, 5): 2.0}\n"
     ]
    }
   ],
   "source": [
    "edge_map = graph_builder.transform(y_train)\n",
    "print(\"{} labels, {} edges\".format(len(label_names), len(edge_map)))\n",
    "print(edge_map)"
   ]
  },
  {
   "cell_type": "code",
   "execution_count": 5,
   "metadata": {},
   "outputs": [
    {
     "data": {
      "text/plain": [
       "array([[0, 1, 5],\n",
       "       [2, 3, 4]])"
      ]
     },
     "execution_count": 5,
     "metadata": {},
     "output_type": "execute_result"
    }
   ],
   "source": [
    "from skmultilearn.cluster.networkx import NetworkXLabelGraphClusterer\n",
    "#  we define a helper function for visualization purposes\n",
    "def to_membership_vector(partition):\n",
    "    return {\n",
    "        member :  partition_id\n",
    "        for partition_id, members in enumerate(partition)\n",
    "        for member in members\n",
    "    }\n",
    "\n",
    "\n",
    "clusterer = NetworkXLabelGraphClusterer(graph_builder, method='louvain')\n",
    "partition = clusterer.fit_predict(X_train,y_train)\n",
    "partition"
   ]
  },
  {
   "cell_type": "code",
   "execution_count": 6,
   "metadata": {},
   "outputs": [],
   "source": [
    "from matplotlib import interactive\n",
    "interactive(True)"
   ]
  },
  {
   "cell_type": "code",
   "execution_count": 7,
   "metadata": {},
   "outputs": [
    {
     "data": {
      "text/plain": [
       "<function community.community_louvain.best_partition>"
      ]
     },
     "execution_count": 7,
     "metadata": {},
     "output_type": "execute_result"
    },
    {
     "data": {
      "text/plain": [
       "<matplotlib.collections.PathCollection at 0x7f6fe571ec88>"
      ]
     },
     "execution_count": 7,
     "metadata": {},
     "output_type": "execute_result"
    },
    {
     "data": {
      "text/plain": [
       "<matplotlib.collections.PathCollection at 0x7f6fe571efd0>"
      ]
     },
     "execution_count": 7,
     "metadata": {},
     "output_type": "execute_result"
    },
    {
     "data": {
      "text/plain": [
       "<matplotlib.collections.PathCollection at 0x7f6fe56bb390>"
      ]
     },
     "execution_count": 7,
     "metadata": {},
     "output_type": "execute_result"
    },
    {
     "data": {
      "text/plain": [
       "<matplotlib.collections.PathCollection at 0x7f6fe56bb3c8>"
      ]
     },
     "execution_count": 7,
     "metadata": {},
     "output_type": "execute_result"
    },
    {
     "data": {
      "text/plain": [
       "<matplotlib.collections.PathCollection at 0x7f6fe56bbac8>"
      ]
     },
     "execution_count": 7,
     "metadata": {},
     "output_type": "execute_result"
    },
    {
     "data": {
      "text/plain": [
       "<matplotlib.collections.PathCollection at 0x7f6fe56bbe80>"
      ]
     },
     "execution_count": 7,
     "metadata": {},
     "output_type": "execute_result"
    },
    {
     "data": {
      "text/plain": [
       "<matplotlib.collections.PathCollection at 0x7f6fe56d01d0>"
      ]
     },
     "execution_count": 7,
     "metadata": {},
     "output_type": "execute_result"
    },
    {
     "data": {
      "text/plain": [
       "<matplotlib.collections.PathCollection at 0x7f6fe56d05f8>"
      ]
     },
     "execution_count": 7,
     "metadata": {},
     "output_type": "execute_result"
    },
    {
     "data": {
      "text/plain": [
       "<matplotlib.collections.PathCollection at 0x7f6fe56d08d0>"
      ]
     },
     "execution_count": 7,
     "metadata": {},
     "output_type": "execute_result"
    },
    {
     "data": {
      "text/plain": [
       "<matplotlib.collections.PathCollection at 0x7f6fe56d0cc0>"
      ]
     },
     "execution_count": 7,
     "metadata": {},
     "output_type": "execute_result"
    },
    {
     "data": {
      "text/plain": [
       "<matplotlib.collections.PathCollection at 0x7f6fe56d0cf8>"
      ]
     },
     "execution_count": 7,
     "metadata": {},
     "output_type": "execute_result"
    },
    {
     "data": {
      "text/plain": [
       "<matplotlib.collections.PathCollection at 0x7f6fe571ec50>"
      ]
     },
     "execution_count": 7,
     "metadata": {},
     "output_type": "execute_result"
    },
    {
     "data": {
      "text/plain": [
       "<matplotlib.collections.PathCollection at 0x7f6fe56d2390>"
      ]
     },
     "execution_count": 7,
     "metadata": {},
     "output_type": "execute_result"
    },
    {
     "data": {
      "text/plain": [
       "<matplotlib.collections.PathCollection at 0x7f6fe56d2748>"
      ]
     },
     "execution_count": 7,
     "metadata": {},
     "output_type": "execute_result"
    },
    {
     "data": {
      "text/plain": [
       "<matplotlib.collections.LineCollection at 0x7f6fe5392f28>"
      ]
     },
     "execution_count": 7,
     "metadata": {},
     "output_type": "execute_result"
    },
    {
     "data": {
      "image/png": "[encoded data removed]",
      "text/plain": [
       "<matplotlib.figure.Figure at 0x7f6fe6235eb8>"
      ]
     },
     "metadata": {},
     "output_type": "display_data"
    }
   ],
   "source": [
    "import community\n",
    "import networkx as nx\n",
    "import matplotlib.pyplot as plt\n",
    "\n",
    "# Replace this with your networkx graph loading depending on your format !\n",
    "G = nx.erdos_renyi_graph(30, 0.05)\n",
    "\n",
    "#first compute the best partition\n",
    "partition = community.best_partition(G)\n",
    "community.best_partition\n",
    "#drawing\n",
    "size = float(len(set(partition.values())))\n",
    "pos = nx.spring_layout(G)\n",
    "count = 0.\n",
    "for com in set(partition.values()) :\n",
    "    count = count + 1.\n",
    "    list_nodes = [nodes for nodes in partition.keys()\n",
    "                                if partition[nodes] == com]\n",
    "    nx.draw_networkx_nodes(G, pos, list_nodes, node_size = 20,\n",
    "                                node_color = str(count / size))\n",
    "\n",
    "\n",
    "nx.draw_networkx_edges(G, pos, alpha=0.5)\n",
    "plt.show()"
   ]
  },
  {
   "cell_type": "code",
   "execution_count": 8,
   "metadata": {},
   "outputs": [
    {
     "data": {
      "text/plain": [
       "[(6, 7, 0.43209348383736246),\n",
       " (3, 2, 0.2928438125278191),\n",
       " (7, 8, 0.08353111239690192),\n",
       " (9, 1, 0.16989478774057465),\n",
       " (1, 2, 0.33835842616294076),\n",
       " (2, 6, 0.47168909595048125),\n",
       " (4, 1, 0.5659460220183072),\n",
       " (2, 5, 0.5632735807400766),\n",
       " (2, 8, 0.12195051802243706)]"
      ]
     },
     "execution_count": 8,
     "metadata": {},
     "output_type": "execute_result"
    },
    {
     "data": {
      "text/plain": [
       "{(1, 2): Text(0.0914745,0.151773,'0.33835842616294076'),\n",
       " (2, 1): Text(0.0914745,0.151773,'0.1'),\n",
       " (2, 4): Text(0.0327498,0.238825,'2.0'),\n",
       " (2, 5): Text(-0.0281375,0.600321,'0.5632735807400766'),\n",
       " (2, 6): Text(-0.117197,-0.159289,'0.47168909595048125'),\n",
       " (2, 8): Text(0.0729008,-0.305102,'0.12195051802243706'),\n",
       " (3, 1): Text(0.207722,0.197687,'0.75'),\n",
       " (3, 2): Text(0.0862321,0.246556,'0.2928438125278191'),\n",
       " (4, 1): Text(0.15424,0.189955,'0.5659460220183072'),\n",
       " (6, 7): Text(-0.226142,-0.628412,'0.43209348383736246'),\n",
       " (7, 8): Text(-0.0360445,-0.774225,'0.08353111239690192'),\n",
       " (9, 1): Text(0.0173739,0.148776,'0.16989478774057465')}"
      ]
     },
     "execution_count": 8,
     "metadata": {},
     "output_type": "execute_result"
    },
    {
     "data": {
      "text/plain": [
       "Text(0.5,1,'Pair-wise network')"
      ]
     },
     "execution_count": 8,
     "metadata": {},
     "output_type": "execute_result"
    },
    {
     "data": {
      "image/png": "[encoded data removed]",
      "text/plain": [
       "<matplotlib.figure.Figure at 0x7f6fe569b668>"
      ]
     },
     "metadata": {},
     "output_type": "display_data"
    }
   ],
   "source": [
    "DG = nx.DiGraph()\n",
    "\n",
    "\n",
    "random_edges = [(np.random.randint(1,10),np.random.randint(1,10),float(np.random.uniform(size=1)\n",
    " )) for i in range(1,10)]\n",
    "\n",
    "random_edges\n",
    "\n",
    "DG.add_weighted_edges_from([(1, 2, 0.5), (3, 1, 0.75), (2,1, 0.1), (2,4, 2.0)])\n",
    "DG.add_weighted_edges_from(random_edges)\n",
    "\n",
    "\n",
    "# Forcing a layout \n",
    "pos = nx.spring_layout(DG)\n",
    "\n",
    "# Make a label dictionary: {}\n",
    "new_labels = dict(map(lambda x: ((x[0],x[1]), x[2]['weight']), DG.edges(data=True)))\n",
    "nx.draw_networkx(DG, pos=pos,alpha=0.5)\n",
    "nx.draw_networkx_edge_labels(DG, pos=pos, edge_labels=new_labels)\n",
    "plt.title('Pair-wise network')\n",
    "plt.savefig('Large-graph')\n",
    "plt.show()"
   ]
  },
  {
   "cell_type": "code",
   "execution_count": 9,
   "metadata": {},
   "outputs": [
    {
     "data": {
      "text/plain": [
       "{1: 0.21957319427489158,\n",
       " 2: 0.2286028667546942,\n",
       " 3: 0.03387879853679459,\n",
       " 4: 0.15320324316048214,\n",
       " 5: 0.06748495213329733,\n",
       " 6: 0.06202081824146481,\n",
       " 7: 0.08659600486624379,\n",
       " 8: 0.11476132349533677,\n",
       " 9: 0.03387879853679459}"
      ]
     },
     "execution_count": 9,
     "metadata": {},
     "output_type": "execute_result"
    }
   ],
   "source": [
    "nx.pagerank(DG)"
   ]
  },
  {
   "cell_type": "code",
   "execution_count": 10,
   "metadata": {},
   "outputs": [
    {
     "data": {
      "text/plain": [
       "{(1, 2): Text(0.232778,0.212228,'0.3'),\n",
       " (2, 3): Text(0.242677,-0.464259,'1.0'),\n",
       " (3, 2): Text(0.242677,-0.464259,'0.75'),\n",
       " (4, 3): Text(0.163581,0.0954892,'0.8'),\n",
       " (5, 3): Text(-0.101804,-0.484203,'0.6')}"
      ]
     },
     "execution_count": 10,
     "metadata": {},
     "output_type": "execute_result"
    },
    {
     "data": {
      "text/plain": [
       "Text(0.5,1,'Pair-wise network')"
      ]
     },
     "execution_count": 10,
     "metadata": {},
     "output_type": "execute_result"
    },
    {
     "data": {
      "image/png": "[encoded data removed]",
      "text/plain": [
       "<matplotlib.figure.Figure at 0x7fba0b3412e8>"
      ]
     },
     "metadata": {},
     "output_type": "display_data"
    }
   ],
   "source": [
    "DG = nx.DiGraph()\n",
    "\n",
    "\n",
    "# random_edges = [(np.random.randint(1,10),np.random.randint(1,10),float(np.random.uniform(size=1)) for i in range(1,20)]\n",
    "\n",
    "# random_edges\n",
    "\n",
    "DG.add_weighted_edges_from([(1, 2, 1), (3, 2, 0.75), (2,3, 1.0), (4,3,0.8),(5,3,0.6), (1,2, 0.3)])\n",
    "# DG.add_weighted_edges_from(random_edges)\n",
    "\n",
    "\n",
    "# Forcing a layout \n",
    "pos = nx.spring_layout(DG)\n",
    "\n",
    "# Make a label dictionary: {}\n",
    "new_labels = dict(map(lambda x: ((x[0],x[1]), x[2]['weight']), DG.edges(data=True)))\n",
    "nx.draw_networkx(DG, pos=pos,alpha=0.5)\n",
    "nx.draw_networkx_edge_labels(DG, pos=pos, edge_labels=new_labels)\n",
    "plt.title('Pair-wise network')\n",
    "plt.savefig('Pairwise')\n",
    "plt.show()\n"
   ]
  },
  {
   "cell_type": "code",
   "execution_count": 37,
   "metadata": {
    "scrolled": false
   },
   "outputs": [
    {
     "data": {
      "text/plain": [
       "array([[1., 1., 1., 1., 1., 1., 1., 1., 1., 1.],\n",
       "       [1., 1., 1., 1., 1., 1., 1., 1., 1., 1.],\n",
       "       [1., 1., 1., 1., 1., 1., 1., 1., 1., 1.],\n",
       "       [1., 1., 1., 1., 1., 1., 1., 1., 1., 1.],\n",
       "       [1., 1., 1., 1., 1., 1., 1., 1., 1., 1.],\n",
       "       [1., 1., 1., 1., 1., 1., 1., 1., 1., 1.],\n",
       "       [1., 1., 1., 1., 1., 1., 1., 1., 1., 1.],\n",
       "       [1., 1., 1., 1., 1., 1., 1., 1., 1., 1.],\n",
       "       [1., 1., 1., 1., 1., 1., 1., 1., 1., 1.],\n",
       "       [1., 1., 1., 1., 1., 1., 1., 1., 1., 1.]])"
      ]
     },
     "execution_count": 37,
     "metadata": {},
     "output_type": "execute_result"
    },
    {
     "data": {
      "text/plain": [
       "array([[1., 1., 1., 1., 1., 1., 1., 1., 1., 1.],\n",
       "       [1., 1., 1., 1., 1., 1., 1., 1., 1., 1.],\n",
       "       [1., 1., 1., 1., 1., 1., 1., 1., 1., 1.],\n",
       "       [1., 1., 1., 1., 1., 1., 1., 1., 1., 1.],\n",
       "       [1., 1., 1., 1., 1., 1., 1., 1., 1., 1.],\n",
       "       [1., 1., 1., 1., 1., 1., 1., 1., 1., 1.],\n",
       "       [1., 1., 1., 1., 1., 1., 1., 1., 1., 1.],\n",
       "       [1., 1., 1., 1., 1., 1., 1., 1., 1., 1.],\n",
       "       [1., 1., 1., 1., 1., 1., 1., 1., 1., 1.],\n",
       "       [1., 1., 1., 1., 1., 1., 1., 1., 1., 1.]])"
      ]
     },
     "execution_count": 37,
     "metadata": {},
     "output_type": "execute_result"
    }
   ],
   "source": [
    "A = np.ones(shape=(10,10))\n",
    "B = A\n",
    "B\n",
    "A = A * 6\n",
    "B\n",
    "\n"
   ]
  },
  {
   "cell_type": "code",
   "execution_count": 118,
   "metadata": {},
   "outputs": [
    {
     "name": "stdout",
     "output_type": "stream",
     "text": [
      "To be sorted into [1, 1, 1, 1, 1, 1, 1, 1, 1, 1, 1, 1, 1, 1, 1, 1, 1, 1, 1, 1, 1, 1, 1, 1, 1, 1, 1, 1, 1, 1, 1, 1, 1, 1, 1, 1, 1, 1, 1, 1, 1, 1, 1, 1, 1, 1, 1, 1, 1, 1, 1, 1, 1, 1, 1, 1, 1, 1, 1, 1, 1, 1, 1, 1, 1, 1, 1, 1, 1, 1, 1, 1, 1, 1, 1, 1, 1, 1, 1, 1, 1, 1, 1, 1, 1, 1, 1, 1, 1, 1, 1, 1, 1, 1, 1, 1, 1, 1, 1, 1, 1, 1, 2, 2, 2, 2, 2, 2, 2, 2, 2, 2, 2, 2, 2, 2, 2, 2, 2, 2, 2, 2, 2, 2, 2, 2, 2, 2, 2, 2, 2, 2, 2, 2, 2, 2, 2, 2, 2, 2, 2, 2, 2, 2, 2, 2, 2, 2, 2, 2, 2, 2, 2, 2, 2, 2, 2, 2, 2, 2, 2, 2, 2, 2, 2, 2, 2, 2, 2, 2, 2, 2, 2, 2, 2, 2, 2, 2, 2, 2, 2, 2, 2, 2, 2, 2, 2, 2, 2, 2, 2, 2, 2, 2, 2, 3, 3, 3, 3, 3, 3, 3, 3, 3, 3, 3, 3, 3, 3, 3, 3, 3, 3, 3, 3, 3, 3, 3, 3, 3, 3, 3, 3, 3, 3, 3, 3, 3, 3, 3, 3, 3, 3, 3, 3, 3, 3, 3, 3, 3, 3, 3, 3, 3, 3, 3, 3, 3, 3, 3, 3, 3, 3, 3, 3, 3, 3, 3, 3, 3, 3, 3, 3, 3, 3, 3, 3, 3, 3, 3, 3, 3, 3, 3, 3, 3, 3, 3, 3, 3, 3, 3, 3, 3, 3, 3, 3, 3, 3, 3, 3, 3, 3, 3, 3, 3, 3, 3, 3, 3, 3, 3, 3, 3, 3, 3, 3, 4, 4, 4, 4, 4, 4, 4, 4, 4, 4, 4, 4, 4, 4, 4, 4, 4, 4, 4, 4, 4, 4, 4, 4, 4, 4, 4, 4, 4, 4, 4, 4, 4, 4, 4, 4, 4, 4, 4, 4, 4, 4, 4, 4, 4, 4, 4, 4, 4, 4, 4, 4, 4, 4, 4, 4, 4, 4, 4, 4, 4, 4, 4, 4, 4, 4, 4, 4, 4, 4, 4, 4, 4, 4, 4, 4, 4, 4, 4, 4, 4, 4, 4, 4, 4, 4, 4, 4, 4, 4, 4, 4, 4, 4, 4, 4, 4, 4, 4, 4, 4, 4, 4, 4, 4, 4, 4, 5, 5, 5, 5, 5, 5, 5, 5, 5, 5, 5, 5, 5, 5, 5, 5, 5, 5, 5, 5, 5, 5, 5, 5, 5, 5, 5, 5, 5, 5, 5, 5, 5, 5, 5, 5, 5, 5, 5, 5, 5, 5, 5, 5, 5, 5, 5, 5, 5, 5, 5, 5, 5, 5, 5, 5, 5, 5, 5, 5, 5, 5, 5, 5, 5, 5, 5, 5, 5, 5, 5, 5, 5, 5, 5, 5, 5, 5, 5, 5, 5, 5, 5, 5, 5, 5, 5, 5, 5, 5, 5, 5, 5, 5, 5, 5, 6, 6, 6, 6, 6, 6, 6, 6, 6, 6, 6, 6, 6, 6, 6, 6, 6, 6, 6, 6, 6, 6, 6, 6, 6, 6, 6, 6, 6, 6, 6, 6, 6, 6, 6, 6, 6, 6, 6, 6, 6, 6, 6, 6, 6, 6, 6, 6, 6, 6, 6, 6, 6, 6, 6, 6, 6, 6, 6, 6, 6, 6, 6, 6, 6, 6, 6, 6, 6, 6, 6, 6, 6, 6, 6, 6, 6, 6, 6, 6, 6, 6, 6, 6, 6, 6, 6, 6, 6, 6, 6, 6, 6, 6, 6, 6, 6, 6, 6, 6, 6, 6, 6, 6, 6, 6, 6, 7, 7, 7, 7, 7, 7, 7, 7, 7, 7, 7, 7, 7, 7, 7, 7, 7, 7, 7, 7, 7, 7, 7, 7, 7, 7, 7, 7, 7, 7, 7, 7, 7, 7, 7, 7, 7, 7, 7, 7, 7, 7, 7, 7, 7, 7, 7, 7, 7, 7, 7, 7, 7, 7, 7, 7, 7, 7, 7, 7, 7, 7, 7, 7, 7, 7, 7, 7, 7, 7, 7, 7, 7, 7, 7, 7, 7, 7] and [7, 7, 7, 7, 7, 7, 7, 7, 7, 7, 8, 8, 8, 8, 8, 8, 8, 8, 8, 8, 8, 8, 8, 8, 8, 8, 8, 8, 8, 8, 8, 8, 8, 8, 8, 8, 8, 8, 8, 8, 8, 8, 8, 8, 8, 8, 8, 8, 8, 8, 8, 8, 8, 8, 8, 8, 8, 8, 8, 8, 8, 8, 8, 8, 8, 8, 8, 8, 8, 8, 8, 8, 8, 8, 8, 8, 8, 8, 8, 8, 8, 8, 8, 8, 8, 8, 8, 8, 8, 8, 8, 8, 8, 8, 8, 8, 8, 8, 8, 8, 8, 8, 8, 8, 8, 8, 8, 8, 8, 8, 8, 9, 9, 9, 9, 9, 9, 9, 9, 9, 9, 9, 9, 9, 9, 9, 9, 9, 9, 9, 9, 9, 9, 9, 9, 9, 9, 9, 9, 9, 9, 9, 9, 9, 9, 9, 9, 9, 9, 9, 9, 9, 9, 9, 9, 9, 9, 9, 9, 9, 9, 9, 9, 9, 9, 9, 9, 9, 9, 9, 9, 9, 9, 9, 9, 9, 9, 9, 9, 9, 9, 9, 9, 9, 9, 9, 9, 9, 9, 9, 9, 9, 9, 9, 9, 9, 9, 9, 9, 9, 9, 9, 9, 9, 9, 9, 9, 9, 9, 10, 10, 10, 10, 10, 10, 10, 10, 10, 10, 10, 10, 10, 10, 10, 10, 10, 10, 10, 10, 10, 10, 10, 10, 10, 10, 10, 10, 10, 10, 10, 10, 10, 10, 10, 10, 10, 10, 10, 10, 10, 10, 10, 10, 10, 10, 10, 10, 10, 10, 10, 10, 10, 10, 10, 10, 10, 10, 10, 10, 10, 10, 10, 10, 10, 10, 10, 10, 10, 10, 10, 10, 10, 10, 10, 10, 10, 10, 10, 10, 10, 10, 10, 10, 10, 10, 10, 10, 10, 10, 10, 10, 10, 10, 10, 10]\n"
     ]
    }
   ],
   "source": [
    "def part():\n",
    "    \n",
    "    arr = list(np.random.randint(1,11,size=1000))\n",
    "    \n",
    "#     arr = [1,1,1,1,1,5]\n",
    "    if (sum(arr) % 2) == 1:\n",
    "         print('false')\n",
    "    else:\n",
    "        half = sum(arr) / 2\n",
    "        arr = sorted(arr)\n",
    "        for index in range(1,len(arr)):\n",
    "            if int(sum(arr[:index])) == int(sum(arr[index:])):\n",
    "                print(\"To be sorted into {} and {}\".format(arr[:index], arr[index:]))\n",
    "                break\n",
    "\n",
    "part()\n"
   ]
  },
  {
   "cell_type": "code",
   "execution_count": 115,
   "metadata": {},
   "outputs": [
    {
     "name": "stdout",
     "output_type": "stream",
     "text": [
      "[6, 7, 8, 9, 10]\n"
     ]
    }
   ],
   "source": [
    "arr = [1,2,3,4,5,6,7,8,9,10]\n",
    "print(arr[5:])"
   ]
  },
  {
   "cell_type": "code",
   "execution_count": 10,
   "metadata": {},
   "outputs": [
    {
     "name": "stdout",
     "output_type": "stream",
     "text": [
      "part :  [[ True  True  True  True  True  True  True]\n",
      " [ True  True  True  True  True  True  True]\n",
      " [ True  True  True  True  True  True  True]\n",
      " [ True  True  True  True  True  True  True]\n",
      " [ True  True  True  True  True  True  True]\n",
      " [ True  True  True  True  True  True  True]]\n",
      "[[True, True, True, True, True, True, True], [False, True, True, True, True, True, True], [False, True, True, True, True, True, True], [False, True, True, True, True, True, True], [False, True, True, True, True, True, True], [False, True, True, True, True, True, True]]\n",
      "Can be divided into two subsets of equal sum\n"
     ]
    }
   ],
   "source": [
    "# Returns true if arr[] can be  \n",
    "# partitioned in two subsets of  \n",
    "# equal sum, otherwise false \n",
    "def findPartition(arr, n): \n",
    "    tot = sum(arr)\n",
    "    i, j = 0, 0\n",
    " \n",
    "    if tot % 2 != 0: \n",
    "        return false \n",
    "      \n",
    "    \n",
    "    part_1 = np.asmatrix([[ True for i in range(n + 1)]  \n",
    "                   for j in range(tot // 2 + 1)])\n",
    "    \n",
    "    \n",
    "    part = [[ True for i in range(n + 1)]  \n",
    "                   for j in range(tot // 2 + 1)]\n",
    "    print(\"part : \", part_1)\n",
    "    \n",
    "    # initialize top row as true \n",
    "  \n",
    "          \n",
    "    # intialize leftmost column,  \n",
    "    # except part[0][0], as 0 \n",
    "    \n",
    "    for i in range(1, tot // 2 + 1): \n",
    "        part[i][0] = False\n",
    "      \n",
    "    \n",
    "    print(part)\n",
    "    \n",
    "    # fill the partition table in \n",
    "    # bottom up manner \n",
    "    for i in range(1, tot // 2 + 1): \n",
    "        for j in range(1, n + 1): \n",
    "            part[i][j] = part[i][j - 1] \n",
    "              \n",
    "            if i >= arr[j - 1]: \n",
    "                part[i][j] = (part[i][j] or \n",
    "                              part[i - arr[j - 1]][j - 1]) \n",
    "          \n",
    "    return part[tot // 2][n] \n",
    "      \n",
    "# Driver Code \n",
    "arr = [3, 1, 1, 2, 2, 1] \n",
    "n = len(arr) \n",
    "if findPartition(arr, n) == True: \n",
    "    print(\"Can be divided into two\",  \n",
    "             \"subsets of equal sum\") \n",
    "else: \n",
    "    print(\"Can not be divided into \", \n",
    "          \"two subsets of equal sum\") \n",
    "  \n",
    "# This code is contributed  \n",
    "# by mohit kumar 29 "
   ]
  },
  {
   "cell_type": "code",
   "execution_count": null,
   "metadata": {},
   "outputs": [],
   "source": []
  },
  {
   "cell_type": "code",
   "execution_count": null,
   "metadata": {},
   "outputs": [],
   "source": []
  }
 ],
 "metadata": {
  "kernelspec": {
   "display_name": "Python 3",
   "language": "python",
   "name": "python3"
  },
  "language_info": {
   "codemirror_mode": {
    "name": "ipython",
    "version": 3
   },
   "file_extension": ".py",
   "mimetype": "text/x-python",
   "name": "python",
   "nbconvert_exporter": "python",
   "pygments_lexer": "ipython3",
   "version": "3.6.7"
  }
 },
 "nbformat": 4,
 "nbformat_minor": 2
}
