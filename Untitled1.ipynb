{
 "cells": [
  {
   "cell_type": "code",
   "execution_count": 2,
   "metadata": {},
   "outputs": [],
   "source": [
    "import numpy as np\n",
    "from tqdm import tqdm\n",
    "tqdm.pandas()\n",
    "import math\n",
    "import pandas as pd\n",
    "\n",
    "def dcg(y_true: np.array, log_base: 2):\n",
    "    \"\"\"\n",
    "    Returns ndcg given the truth values (clicks) for a given query\n",
    "    :param y_true: np.array of clicked documents in order\n",
    "    :param log_base: the log discount factor\n",
    "    :return:\n",
    "    \"\"\"\n",
    "    gain = y_true[0]\n",
    "    for index, rel_i in enumerate(y_true):\n",
    "        if index != 0:\n",
    "            gain += rel_i / (math.log(rel_i + index + 1, log_base))\n",
    "    return gain"
   ]
  },
  {
   "cell_type": "code",
   "execution_count": 3,
   "metadata": {},
   "outputs": [
    {
     "data": {
      "text/plain": [
       "[0.38685280723454163, 1, 0.6309297535714574]"
      ]
     },
     "execution_count": 3,
     "metadata": {},
     "output_type": "execute_result"
    }
   ],
   "source": [
    "predictions = [[0,0,0,0,1], [1], [0,1]]\n",
    "ndcgs = []\n",
    "\n",
    "for pred in predictions:\n",
    "    ndcgs.append(dcg(pred, 2))\n",
    "\n",
    "ndcgs\n",
    "\n",
    "    "
   ]
  },
  {
   "cell_type": "code",
   "execution_count": 18,
   "metadata": {},
   "outputs": [],
   "source": [
    "df =  pd.DataFrame({'A' : ['This is the ',\n",
    "                           \"One\",\n",
    "                            \"two words\",\n",
    "                            \"A very long list of 7 words\"]})"
   ]
  },
  {
   "cell_type": "code",
   "execution_count": 31,
   "metadata": {},
   "outputs": [],
   "source": [
    "# df['query_length'] = df['A'].progress_apply(lambda x: x)\n",
    "# df"
   ]
  },
  {
   "cell_type": "code",
   "execution_count": 20,
   "metadata": {},
   "outputs": [],
   "source": [
    "def compute_tfidf(query_list: []):\n",
    "    \"\"\"\n",
    "    Returns a tf dictionary for each review whose keys are all\n",
    "    the unique words in the review and whose values are their\n",
    "    corresponding tf.\n",
    "    \"\"\"\n",
    "\n",
    "    query_list = list(itertools.chain(*query_list))\n",
    "\n",
    "    # Counts the number of times the word appears in review\n",
    "    tfidf_dictionary = {}\n",
    "    for word in tqdm(query_list):\n",
    "        if word in tfidf_dictionary:\n",
    "            tfidf_dictionary[word] += 1\n",
    "        else:\n",
    "            tfidf_dictionary[word] = 1\n",
    "    # Computes tf for each word\n",
    "    for word in tfidf_dictionary:\n",
    "        tfidf_dictionary[word] = tfidf_dictionary[word] / len(query_list)\n",
    "\n",
    "    save_obj(tfidf_dictionary, './data/tfidf_dict')\n",
    "    \n",
    "    "
   ]
  },
  {
   "cell_type": "code",
   "execution_count": 48,
   "metadata": {
    "scrolled": true
   },
   "outputs": [
    {
     "name": "stderr",
     "output_type": "stream",
     "text": [
      "\n",
      "  0%|          | 0/69364 [00:00<?, ?it/s]\u001b[A\n",
      " 88%|████████▊ | 61024/69364 [00:00<00:00, 610239.13it/s]\u001b[A\n",
      "100%|██████████| 69364/69364 [00:00<00:00, 583205.28it/s]\u001b[A"
     ]
    },
    {
     "data": {
      "text/plain": [
       "{'auto': 2.333833517449403,\n",
       " 'best': 1.011136081144077,\n",
       " 'car': 1.3398713352631375,\n",
       " 'insturance': 1.2823245819974236}"
      ]
     },
     "execution_count": 48,
     "metadata": {},
     "output_type": "execute_result"
    }
   ],
   "source": [
    "\"\"\"\n",
    ":param df:\n",
    ":return:\n",
    "\"\"\"\n",
    "\n",
    "import itertools\n",
    "\n",
    "# df['Query_lowercase_and_split'] = df['SearchText'].apply(lambda x: [query.lower() for query in x.split()])\n",
    "# query_list = df['Query_lowercase_and_split'].tolist()\n",
    "\n",
    "query_list = quere\n",
    "\n",
    "query_list = list(itertools.chain(*query_list))\n",
    "\n",
    "# Counts the number of times the word appears in review\n",
    "dft_dictionary = {}\n",
    "for word in tqdm(query_list):\n",
    "    if word in dft_dictionary:\n",
    "        dft_dictionary[word] += 1\n",
    "    else:\n",
    "        dft_dictionary[word] = 1\n",
    "\n",
    "# Computes df for each word\n",
    "for word in dft_dictionary:\n",
    "    dft_dictionary[word] = np.log(len(query_list) / dft_dictionary[word] )\n",
    "\n",
    "dft_dictionary\n",
    "\n",
    "# tf_score_list = []\n",
    "# for query in query_list:\n",
    "#     query_score = 0\n",
    "#     for word in query:\n",
    "#         query_score += tfidf_dictionary[word]\n",
    "#     query_score = query_score / len(query)\n",
    "#     tf_score_list.append(query_score)\n",
    "# df['IDF_query_score'] = tf_score_list\n",
    "\n",
    "\n",
    "\n"
   ]
  },
  {
   "cell_type": "code",
   "execution_count": 46,
   "metadata": {
    "scrolled": true
   },
   "outputs": [],
   "source": [
    "quere = []\n",
    "quere.append(['car'] * 18165)\n",
    "quere.append(['auto'] * 6723)\n",
    "quere.append(['insturance'] * 19241)\n",
    "quere.append(['best'] *  25235)\n",
    "\n",
    "from collections import Counter\n",
    "\n",
    "# Counter(quere)"
   ]
  },
  {
   "cell_type": "code",
   "execution_count": 33,
   "metadata": {
    "scrolled": true
   },
   "outputs": [
    {
     "data": {
      "text/plain": [
       "['car',\n",
       " 'car',\n",
       " 'car',\n",
       " 'car',\n",
       " 'car',\n",
       " 'car',\n",
       " 'car',\n",
       " 'car',\n",
       " 'car',\n",
       " 'car',\n",
       " 'car',\n",
       " 'car',\n",
       " 'car',\n",
       " 'car',\n",
       " 'car',\n",
       " 'car',\n",
       " 'car',\n",
       " 'car',\n",
       " 'car',\n",
       " 'car',\n",
       " 'car',\n",
       " 'car',\n",
       " 'car',\n",
       " 'car',\n",
       " 'car',\n",
       " 'car',\n",
       " 'car',\n",
       " 'car',\n",
       " 'car',\n",
       " 'car',\n",
       " 'car',\n",
       " 'car',\n",
       " 'car',\n",
       " 'car',\n",
       " 'car',\n",
       " 'car',\n",
       " 'car',\n",
       " 'car',\n",
       " 'car',\n",
       " 'car',\n",
       " 'car',\n",
       " 'car',\n",
       " 'car',\n",
       " 'car',\n",
       " 'car',\n",
       " 'car',\n",
       " 'car',\n",
       " 'car',\n",
       " 'car',\n",
       " 'car',\n",
       " 'car',\n",
       " 'car',\n",
       " 'car',\n",
       " 'car',\n",
       " 'car',\n",
       " 'car',\n",
       " 'car',\n",
       " 'car',\n",
       " 'car',\n",
       " 'car',\n",
       " 'car',\n",
       " 'car',\n",
       " 'car',\n",
       " 'car',\n",
       " 'car',\n",
       " 'car',\n",
       " 'car',\n",
       " 'car',\n",
       " 'car',\n",
       " 'car',\n",
       " 'car',\n",
       " 'car',\n",
       " 'car',\n",
       " 'car',\n",
       " 'car',\n",
       " 'car',\n",
       " 'car',\n",
       " 'car',\n",
       " 'car',\n",
       " 'car',\n",
       " 'car',\n",
       " 'car',\n",
       " 'car',\n",
       " 'car',\n",
       " 'car',\n",
       " 'car',\n",
       " 'car',\n",
       " 'car',\n",
       " 'car',\n",
       " 'car',\n",
       " 'car',\n",
       " 'car',\n",
       " 'car',\n",
       " 'car',\n",
       " 'car',\n",
       " 'car',\n",
       " 'car',\n",
       " 'car',\n",
       " 'car',\n",
       " 'car']"
      ]
     },
     "execution_count": 33,
     "metadata": {},
     "output_type": "execute_result"
    }
   ],
   "source": []
  },
  {
   "cell_type": "code",
   "execution_count": null,
   "metadata": {},
   "outputs": [],
   "source": []
  }
 ],
 "metadata": {
  "kernelspec": {
   "display_name": "Python 3",
   "language": "python",
   "name": "python3"
  },
  "language_info": {
   "codemirror_mode": {
    "name": "ipython",
    "version": 3
   },
   "file_extension": ".py",
   "mimetype": "text/x-python",
   "name": "python",
   "nbconvert_exporter": "python",
   "pygments_lexer": "ipython3",
   "version": "3.6.8"
  }
 },
 "nbformat": 4,
 "nbformat_minor": 2
}
